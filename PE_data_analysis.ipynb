{
  "cells": [
    {
      "cell_type": "markdown",
      "metadata": {
        "id": "view-in-github",
        "colab_type": "text"
      },
      "source": [
        "<a href=\"https://colab.research.google.com/github/RPJ123/pulmonary-embolism/blob/main/PE_data_analysis.ipynb\" target=\"_parent\"><img src=\"https://colab.research.google.com/assets/colab-badge.svg\" alt=\"Open In Colab\"/></a>"
      ]
    },
    {
      "cell_type": "code",
      "execution_count": null,
      "id": "39b2f76f",
      "metadata": {
        "id": "39b2f76f"
      },
      "outputs": [],
      "source": [
        "import cv2\n",
        "import os\n",
        "import matplotlib.pyplot as plt\n",
        "import numpy as np\n",
        "from tqdm import tqdm\n",
        "import seaborn as sns\n",
        "from collections import Counter"
      ]
    },
    {
      "cell_type": "code",
      "execution_count": null,
      "id": "42638927",
      "metadata": {
        "id": "42638927"
      },
      "outputs": [],
      "source": [
        "path = 'PE_dataset/train'\n",
        "\n",
        "images = []\n",
        "labels = []\n",
        "\n",
        "for dataset_path in tqdm(os.listdir(path)):\n",
        "    class_path = os.path.join(path, dataset_path)\n",
        "    class_name=dataset_path\n",
        "    for image_name in os.listdir(class_path):\n",
        "        image_path = os.path.join(class_path, image_name)\n",
        "        image = cv2.imread(image_path)\n",
        "        labels.append(class_name)\n",
        "        images.append(image)"
      ]
    },
    {
      "cell_type": "code",
      "execution_count": null,
      "id": "de9b5016-cf7d-46f6-8532-b21168ae3a9f",
      "metadata": {
        "id": "de9b5016-cf7d-46f6-8532-b21168ae3a9f"
      },
      "outputs": [],
      "source": [
        "label_counts = Counter(labels)\n",
        "\n",
        "labels = list(label_counts.keys())\n",
        "counts = list(label_counts.values())\n",
        "\n",
        "plt.figure(figsize=(8, 8))\n",
        "plt.pie(counts, labels=labels, autopct='%1.1f%%', startangle=140)\n",
        "plt.title(\"Distribution of Items in Each Label\")\n",
        "plt.show()"
      ]
    },
    {
      "cell_type": "code",
      "execution_count": null,
      "id": "634c5929",
      "metadata": {
        "id": "634c5929"
      },
      "outputs": [],
      "source": [
        "images_train = np.array(images)\n",
        "labels_train = np.array(labels)\n",
        "\n",
        "images_train=images_train/255\n",
        "np.shape(images)"
      ]
    },
    {
      "cell_type": "code",
      "execution_count": null,
      "id": "a98125b4-3c1c-4fac-ab12-09c34236e1da",
      "metadata": {
        "id": "a98125b4-3c1c-4fac-ab12-09c34236e1da"
      },
      "outputs": [],
      "source": [
        "plt.figure(figsize=(10, 5))\n",
        "x=[0,5000]\n",
        "for i in range(2):\n",
        "    plt.subplot(1, 2, i+1)\n",
        "    plt.imshow(images[x[i]])\n",
        "    plt.title(labels[x[i]])\n",
        "    plt.axis('off')\n",
        "plt.show()"
      ]
    },
    {
      "cell_type": "code",
      "execution_count": null,
      "id": "07fd2d71-68e7-401a-b28a-7ba49addfc84",
      "metadata": {
        "id": "07fd2d71-68e7-401a-b28a-7ba49addfc84"
      },
      "outputs": [],
      "source": [
        "path = 'PE_dataset/val'\n",
        "\n",
        "images = []\n",
        "labels = []\n",
        "\n",
        "for dataset_path in tqdm(os.listdir(path)):\n",
        "    class_path = os.path.join(path, dataset_path)\n",
        "    class_name=dataset_path\n",
        "    for image_name in os.listdir(class_path):\n",
        "        image_path = os.path.join(class_path, image_name)\n",
        "        image = cv2.imread(image_path)\n",
        "        labels.append(class_name)\n",
        "        images.append(image)\n",
        "\n",
        "images_test = np.array(images)\n",
        "labels_test = np.array(labels)\n",
        "\n",
        "images_test=images_test/255"
      ]
    },
    {
      "cell_type": "code",
      "execution_count": null,
      "id": "3b10abf6-8d15-4271-9bb7-e35d64a7427b",
      "metadata": {
        "id": "3b10abf6-8d15-4271-9bb7-e35d64a7427b"
      },
      "outputs": [],
      "source": [
        "np.shape(images_test)"
      ]
    },
    {
      "cell_type": "code",
      "execution_count": null,
      "id": "4d983d7e-7ef1-43fb-b5e5-23c9779d1f61",
      "metadata": {
        "id": "4d983d7e-7ef1-43fb-b5e5-23c9779d1f61"
      },
      "outputs": [],
      "source": [
        "plt.figure(figsize=(10, 5))\n",
        "x=[0,1500]\n",
        "for i in range(2):\n",
        "    plt.subplot(1, 2, i+1)\n",
        "    plt.imshow(images_test[x[i]])\n",
        "    plt.title(labels_test[x[i]])\n",
        "    plt.axis('off')\n",
        "plt.show()"
      ]
    },
    {
      "cell_type": "code",
      "execution_count": null,
      "id": "7e04e538-1344-4ec0-b95c-0d0e9483f425",
      "metadata": {
        "id": "7e04e538-1344-4ec0-b95c-0d0e9483f425"
      },
      "outputs": [],
      "source": []
    },
    {
      "cell_type": "code",
      "execution_count": null,
      "id": "98cbc697-f1ba-40f3-b817-4aeeb879125c",
      "metadata": {
        "id": "98cbc697-f1ba-40f3-b817-4aeeb879125c"
      },
      "outputs": [],
      "source": []
    }
  ],
  "metadata": {
    "kernelspec": {
      "display_name": "Python 3 (ipykernel)",
      "language": "python",
      "name": "python3"
    },
    "language_info": {
      "codemirror_mode": {
        "name": "ipython",
        "version": 3
      },
      "file_extension": ".py",
      "mimetype": "text/x-python",
      "name": "python",
      "nbconvert_exporter": "python",
      "pygments_lexer": "ipython3",
      "version": "3.11.7"
    },
    "colab": {
      "provenance": [],
      "include_colab_link": true
    }
  },
  "nbformat": 4,
  "nbformat_minor": 5
}